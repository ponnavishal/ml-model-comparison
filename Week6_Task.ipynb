{
  "nbformat": 4,
  "nbformat_minor": 0,
  "metadata": {
    "colab": {
      "provenance": []
    },
    "kernelspec": {
      "name": "python3",
      "display_name": "Python 3"
    },
    "language_info": {
      "name": "python"
    }
  },
  "cells": [
    {
      "cell_type": "code",
      "execution_count": 1,
      "metadata": {
        "id": "HCT6OrgbudXc"
      },
      "outputs": [],
      "source": [
        "import numpy as np\n",
        "import pandas as pd\n",
        "from sklearn.datasets import load_breast_cancer\n",
        "from sklearn.model_selection import train_test_split, GridSearchCV, RandomizedSearchCV\n",
        "from sklearn.preprocessing import StandardScaler\n",
        "from sklearn.pipeline import Pipeline\n",
        "from sklearn.linear_model import LogisticRegression\n",
        "from sklearn.tree import DecisionTreeClassifier\n",
        "from sklearn.ensemble import RandomForestClassifier\n",
        "from sklearn.svm import SVC\n",
        "from sklearn.neighbors import KNeighborsClassifier\n",
        "from sklearn.metrics import accuracy_score, precision_score, recall_score, f1_score, roc_auc_score\n",
        "from scipy.stats import randint"
      ]
    },
    {
      "cell_type": "markdown",
      "source": [
        "#**dataset**"
      ],
      "metadata": {
        "id": "QrdGM1C-umF2"
      }
    },
    {
      "cell_type": "code",
      "source": [
        "data = load_breast_cancer()\n",
        "X = data.data\n",
        "y = data.target"
      ],
      "metadata": {
        "id": "DieRZwCtuebD"
      },
      "execution_count": 2,
      "outputs": []
    },
    {
      "cell_type": "markdown",
      "source": [
        "# **Split data into training and testing sets**"
      ],
      "metadata": {
        "id": "AK64It-ewREf"
      }
    },
    {
      "cell_type": "code",
      "source": [
        "X_train, X_test, y_train, y_test = train_test_split(X, y, test_size=0.2, random_state=42)"
      ],
      "metadata": {
        "id": "r1nrYS8ausTS"
      },
      "execution_count": 3,
      "outputs": []
    },
    {
      "cell_type": "markdown",
      "source": [
        "# **Models with pipelines and hyperparameter search spaces**"
      ],
      "metadata": {
        "id": "5W4OLd1ewc8j"
      }
    },
    {
      "cell_type": "code",
      "source": [
        "models = [\n",
        "    {\n",
        "        'name': 'Logistic Regression',\n",
        "        'pipeline': Pipeline([\n",
        "            ('scaler', StandardScaler()),\n",
        "            ('clf', LogisticRegression(solver='liblinear'))\n",
        "        ]),\n",
        "        'search_type': 'grid',\n",
        "        'params': {\n",
        "            'clf__C': [0.1, 1, 10],\n",
        "            'clf__penalty': ['l1', 'l2']\n",
        "        }\n",
        "    },\n",
        "    {\n",
        "        'name': 'Decision Tree',\n",
        "        'pipeline': Pipeline([\n",
        "            ('scaler', StandardScaler()),\n",
        "            ('clf', DecisionTreeClassifier())\n",
        "        ]),\n",
        "        'search_type': 'grid',\n",
        "        'params': {\n",
        "            'clf__max_depth': [3, 5, 7, None],\n",
        "            'clf__min_samples_split': [2, 5, 10]\n",
        "        }\n",
        "    },\n",
        "    {\n",
        "        'name': 'Random Forest',\n",
        "        'pipeline': Pipeline([\n",
        "            ('scaler', StandardScaler()),\n",
        "            ('clf', RandomForestClassifier())\n",
        "        ]),\n",
        "        'search_type': 'random',\n",
        "        'params': {\n",
        "            'clf__n_estimators': randint(50, 200),\n",
        "            'clf__max_depth': [3, 5, 7, None],\n",
        "            'clf__min_samples_split': randint(2, 11)\n",
        "        },\n",
        "        'n_iter': 10\n",
        "    },\n",
        "    {\n",
        "        'name': 'SVM',\n",
        "        'pipeline': Pipeline([\n",
        "            ('scaler', StandardScaler()),\n",
        "            ('clf', SVC(probability=True))\n",
        "        ]),\n",
        "        'search_type': 'grid',\n",
        "        'params': {\n",
        "            'clf__C': [0.1, 1, 10],\n",
        "            'clf__kernel': ['linear', 'rbf'],\n",
        "            'clf__gamma': ['scale', 'auto']\n",
        "        }\n",
        "    },\n",
        "    {\n",
        "        'name': 'KNN',\n",
        "        'pipeline': Pipeline([\n",
        "            ('scaler', StandardScaler()),\n",
        "            ('clf', KNeighborsClassifier())\n",
        "        ]),\n",
        "        'search_type': 'grid',\n",
        "        'params': {\n",
        "            'clf__n_neighbors': list(range(1, 21))\n",
        "        }\n",
        "    }\n",
        "]"
      ],
      "metadata": {
        "id": "85A8vlH-wWLJ"
      },
      "execution_count": 9,
      "outputs": []
    },
    {
      "cell_type": "code",
      "source": [
        "# list to store results\n",
        "results = []"
      ],
      "metadata": {
        "id": "PwpLQGkwxO6x"
      },
      "execution_count": 10,
      "outputs": []
    },
    {
      "cell_type": "markdown",
      "source": [
        "# **Performing hyperparameter tuning and evaluation for each model**"
      ],
      "metadata": {
        "id": "4eGHi3ePw3My"
      }
    },
    {
      "cell_type": "code",
      "source": [
        "for model in models:\n",
        "    if model['search_type'] == 'grid':\n",
        "        search = GridSearchCV(model['pipeline'], model['params'], cv=5, scoring='accuracy')\n",
        "    else:\n",
        "        search = RandomizedSearchCV(model['pipeline'], model['params'], n_iter=model['n_iter'], cv=5, scoring='accuracy', random_state=42)\n",
        "\n",
        "    search.fit(X_train, y_train)\n",
        "    best_model = search.best_estimator_\n",
        "    y_pred = best_model.predict(X_test)\n",
        "    y_proba = best_model.predict_proba(X_test)[:, 1] if hasattr(best_model, 'predict_proba') else None\n",
        "\n",
        "    # Calculate metrics\n",
        "    metrics = {\n",
        "        'Model': model['name'],\n",
        "        'Best Parameters': search.best_params_,\n",
        "        'Test Accuracy': accuracy_score(y_test, y_pred),\n",
        "        'Test Precision': precision_score(y_test, y_pred, average='binary'),\n",
        "        'Test Recall': recall_score(y_test, y_pred, average='binary'),\n",
        "        'Test F1-Score': f1_score(y_test, y_pred, average='binary'),\n",
        "        'Test ROC-AUC': roc_auc_score(y_test, y_proba) if y_proba is not None else 'N/A'\n",
        "    }\n",
        "    results.append(metrics)\n",
        "\n",
        "# Convert results to DataFrame and sort by F1-score\n",
        "results_df = pd.DataFrame(results)\n",
        "results_df = results_df.sort_values(by='Test F1-Score', ascending=False)"
      ],
      "metadata": {
        "id": "pZTHmakRwn5E"
      },
      "execution_count": 11,
      "outputs": []
    },
    {
      "cell_type": "markdown",
      "source": [
        "# **Displaying results**"
      ],
      "metadata": {
        "id": "qr4E-tv5xd7f"
      }
    },
    {
      "cell_type": "code",
      "source": [
        "print(\"\\nModel Performance Comparison (sorted by F1-Score):\\n\")\n",
        "print(results_df.to_string(index=False))"
      ],
      "metadata": {
        "colab": {
          "base_uri": "https://localhost:8080/"
        },
        "id": "Qp5s96K2xAUX",
        "outputId": "1739e2eb-fa7e-429d-ae2f-9eeda76e4be9"
      },
      "execution_count": 12,
      "outputs": [
        {
          "output_type": "stream",
          "name": "stdout",
          "text": [
            "\n",
            "Model Performance Comparison (sorted by F1-Score):\n",
            "\n",
            "              Model                                                              Best Parameters  Test Accuracy  Test Precision  Test Recall  Test F1-Score  Test ROC-AUC\n",
            "Logistic Regression                                        {'clf__C': 0.1, 'clf__penalty': 'l2'}       0.991228        0.986111     1.000000       0.993007      0.998690\n",
            "                SVM              {'clf__C': 0.1, 'clf__gamma': 'scale', 'clf__kernel': 'linear'}       0.982456        0.972603     1.000000       0.986111      0.997380\n",
            "      Random Forest {'clf__max_depth': 7, 'clf__min_samples_split': 4, 'clf__n_estimators': 124}       0.964912        0.958904     0.985915       0.972222      0.996397\n",
            "      Decision Tree                          {'clf__max_depth': 3, 'clf__min_samples_split': 10}       0.947368        0.945205     0.971831       0.958333      0.957419\n",
            "                KNN                                                      {'clf__n_neighbors': 5}       0.947368        0.957746     0.957746       0.957746      0.981985\n"
          ]
        }
      ]
    },
    {
      "cell_type": "markdown",
      "source": [
        "# **Identify the best model**"
      ],
      "metadata": {
        "id": "nFRLxNeIxpGY"
      }
    },
    {
      "cell_type": "code",
      "source": [
        "best_model = results_df.loc[results_df['Test F1-Score'].idxmax()]\n",
        "print(f\"\\nBest Model: {best_model['Model']} with F1-Score of {best_model['Test F1-Score']:.4f}\")"
      ],
      "metadata": {
        "colab": {
          "base_uri": "https://localhost:8080/"
        },
        "id": "nukyeWioxkqD",
        "outputId": "2046ae43-c0f0-4c45-82b0-26910cbe95d5"
      },
      "execution_count": 13,
      "outputs": [
        {
          "output_type": "stream",
          "name": "stdout",
          "text": [
            "\n",
            "Best Model: Logistic Regression with F1-Score of 0.9930\n"
          ]
        }
      ]
    }
  ]
}